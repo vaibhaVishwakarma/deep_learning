{
  "nbformat": 4,
  "nbformat_minor": 0,
  "metadata": {
    "colab": {
      "provenance": []
    },
    "kernelspec": {
      "name": "python3",
      "display_name": "Python 3"
    },
    "language_info": {
      "name": "python"
    },
    "widgets": {
      "application/vnd.jupyter.widget-state+json": {
        "39f004eccbb041869d3b895304cb57b3": {
          "model_module": "@jupyter-widgets/controls",
          "model_name": "HBoxModel",
          "model_module_version": "1.5.0",
          "state": {
            "_dom_classes": [],
            "_model_module": "@jupyter-widgets/controls",
            "_model_module_version": "1.5.0",
            "_model_name": "HBoxModel",
            "_view_count": null,
            "_view_module": "@jupyter-widgets/controls",
            "_view_module_version": "1.5.0",
            "_view_name": "HBoxView",
            "box_style": "",
            "children": [
              "IPY_MODEL_275aec5287a0499a939ff05f610ad6bc",
              "IPY_MODEL_d2251e59f36c4050b7dcb2f57f7f23b5",
              "IPY_MODEL_86a76165b5924f96873f776fab4916f7"
            ],
            "layout": "IPY_MODEL_a2a57a81b845491aa1a92ac8debdee6c"
          }
        },
        "275aec5287a0499a939ff05f610ad6bc": {
          "model_module": "@jupyter-widgets/controls",
          "model_name": "HTMLModel",
          "model_module_version": "1.5.0",
          "state": {
            "_dom_classes": [],
            "_model_module": "@jupyter-widgets/controls",
            "_model_module_version": "1.5.0",
            "_model_name": "HTMLModel",
            "_view_count": null,
            "_view_module": "@jupyter-widgets/controls",
            "_view_module_version": "1.5.0",
            "_view_name": "HTMLView",
            "description": "",
            "description_tooltip": null,
            "layout": "IPY_MODEL_6b547e4cffec4e6da95244c7aac400ec",
            "placeholder": "​",
            "style": "IPY_MODEL_93443da0d2124ecfb44b1ba2d69f010e",
            "value": "100%"
          }
        },
        "d2251e59f36c4050b7dcb2f57f7f23b5": {
          "model_module": "@jupyter-widgets/controls",
          "model_name": "FloatProgressModel",
          "model_module_version": "1.5.0",
          "state": {
            "_dom_classes": [],
            "_model_module": "@jupyter-widgets/controls",
            "_model_module_version": "1.5.0",
            "_model_name": "FloatProgressModel",
            "_view_count": null,
            "_view_module": "@jupyter-widgets/controls",
            "_view_module_version": "1.5.0",
            "_view_name": "ProgressView",
            "bar_style": "success",
            "description": "",
            "description_tooltip": null,
            "layout": "IPY_MODEL_9b092a4d04584b3a85691c7be7d2c3ee",
            "max": 3,
            "min": 0,
            "orientation": "horizontal",
            "style": "IPY_MODEL_63f4cd3a909b419386048c55bc423a1f",
            "value": 3
          }
        },
        "86a76165b5924f96873f776fab4916f7": {
          "model_module": "@jupyter-widgets/controls",
          "model_name": "HTMLModel",
          "model_module_version": "1.5.0",
          "state": {
            "_dom_classes": [],
            "_model_module": "@jupyter-widgets/controls",
            "_model_module_version": "1.5.0",
            "_model_name": "HTMLModel",
            "_view_count": null,
            "_view_module": "@jupyter-widgets/controls",
            "_view_module_version": "1.5.0",
            "_view_name": "HTMLView",
            "description": "",
            "description_tooltip": null,
            "layout": "IPY_MODEL_87ee47abd3c9457b8e533edc8311d650",
            "placeholder": "​",
            "style": "IPY_MODEL_2d7801417a5e44f5be9869517468ba8a",
            "value": " 3/3 [00:36&lt;00:00, 12.14s/it]"
          }
        },
        "a2a57a81b845491aa1a92ac8debdee6c": {
          "model_module": "@jupyter-widgets/base",
          "model_name": "LayoutModel",
          "model_module_version": "1.2.0",
          "state": {
            "_model_module": "@jupyter-widgets/base",
            "_model_module_version": "1.2.0",
            "_model_name": "LayoutModel",
            "_view_count": null,
            "_view_module": "@jupyter-widgets/base",
            "_view_module_version": "1.2.0",
            "_view_name": "LayoutView",
            "align_content": null,
            "align_items": null,
            "align_self": null,
            "border": null,
            "bottom": null,
            "display": null,
            "flex": null,
            "flex_flow": null,
            "grid_area": null,
            "grid_auto_columns": null,
            "grid_auto_flow": null,
            "grid_auto_rows": null,
            "grid_column": null,
            "grid_gap": null,
            "grid_row": null,
            "grid_template_areas": null,
            "grid_template_columns": null,
            "grid_template_rows": null,
            "height": null,
            "justify_content": null,
            "justify_items": null,
            "left": null,
            "margin": null,
            "max_height": null,
            "max_width": null,
            "min_height": null,
            "min_width": null,
            "object_fit": null,
            "object_position": null,
            "order": null,
            "overflow": null,
            "overflow_x": null,
            "overflow_y": null,
            "padding": null,
            "right": null,
            "top": null,
            "visibility": null,
            "width": null
          }
        },
        "6b547e4cffec4e6da95244c7aac400ec": {
          "model_module": "@jupyter-widgets/base",
          "model_name": "LayoutModel",
          "model_module_version": "1.2.0",
          "state": {
            "_model_module": "@jupyter-widgets/base",
            "_model_module_version": "1.2.0",
            "_model_name": "LayoutModel",
            "_view_count": null,
            "_view_module": "@jupyter-widgets/base",
            "_view_module_version": "1.2.0",
            "_view_name": "LayoutView",
            "align_content": null,
            "align_items": null,
            "align_self": null,
            "border": null,
            "bottom": null,
            "display": null,
            "flex": null,
            "flex_flow": null,
            "grid_area": null,
            "grid_auto_columns": null,
            "grid_auto_flow": null,
            "grid_auto_rows": null,
            "grid_column": null,
            "grid_gap": null,
            "grid_row": null,
            "grid_template_areas": null,
            "grid_template_columns": null,
            "grid_template_rows": null,
            "height": null,
            "justify_content": null,
            "justify_items": null,
            "left": null,
            "margin": null,
            "max_height": null,
            "max_width": null,
            "min_height": null,
            "min_width": null,
            "object_fit": null,
            "object_position": null,
            "order": null,
            "overflow": null,
            "overflow_x": null,
            "overflow_y": null,
            "padding": null,
            "right": null,
            "top": null,
            "visibility": null,
            "width": null
          }
        },
        "93443da0d2124ecfb44b1ba2d69f010e": {
          "model_module": "@jupyter-widgets/controls",
          "model_name": "DescriptionStyleModel",
          "model_module_version": "1.5.0",
          "state": {
            "_model_module": "@jupyter-widgets/controls",
            "_model_module_version": "1.5.0",
            "_model_name": "DescriptionStyleModel",
            "_view_count": null,
            "_view_module": "@jupyter-widgets/base",
            "_view_module_version": "1.2.0",
            "_view_name": "StyleView",
            "description_width": ""
          }
        },
        "9b092a4d04584b3a85691c7be7d2c3ee": {
          "model_module": "@jupyter-widgets/base",
          "model_name": "LayoutModel",
          "model_module_version": "1.2.0",
          "state": {
            "_model_module": "@jupyter-widgets/base",
            "_model_module_version": "1.2.0",
            "_model_name": "LayoutModel",
            "_view_count": null,
            "_view_module": "@jupyter-widgets/base",
            "_view_module_version": "1.2.0",
            "_view_name": "LayoutView",
            "align_content": null,
            "align_items": null,
            "align_self": null,
            "border": null,
            "bottom": null,
            "display": null,
            "flex": null,
            "flex_flow": null,
            "grid_area": null,
            "grid_auto_columns": null,
            "grid_auto_flow": null,
            "grid_auto_rows": null,
            "grid_column": null,
            "grid_gap": null,
            "grid_row": null,
            "grid_template_areas": null,
            "grid_template_columns": null,
            "grid_template_rows": null,
            "height": null,
            "justify_content": null,
            "justify_items": null,
            "left": null,
            "margin": null,
            "max_height": null,
            "max_width": null,
            "min_height": null,
            "min_width": null,
            "object_fit": null,
            "object_position": null,
            "order": null,
            "overflow": null,
            "overflow_x": null,
            "overflow_y": null,
            "padding": null,
            "right": null,
            "top": null,
            "visibility": null,
            "width": null
          }
        },
        "63f4cd3a909b419386048c55bc423a1f": {
          "model_module": "@jupyter-widgets/controls",
          "model_name": "ProgressStyleModel",
          "model_module_version": "1.5.0",
          "state": {
            "_model_module": "@jupyter-widgets/controls",
            "_model_module_version": "1.5.0",
            "_model_name": "ProgressStyleModel",
            "_view_count": null,
            "_view_module": "@jupyter-widgets/base",
            "_view_module_version": "1.2.0",
            "_view_name": "StyleView",
            "bar_color": null,
            "description_width": ""
          }
        },
        "87ee47abd3c9457b8e533edc8311d650": {
          "model_module": "@jupyter-widgets/base",
          "model_name": "LayoutModel",
          "model_module_version": "1.2.0",
          "state": {
            "_model_module": "@jupyter-widgets/base",
            "_model_module_version": "1.2.0",
            "_model_name": "LayoutModel",
            "_view_count": null,
            "_view_module": "@jupyter-widgets/base",
            "_view_module_version": "1.2.0",
            "_view_name": "LayoutView",
            "align_content": null,
            "align_items": null,
            "align_self": null,
            "border": null,
            "bottom": null,
            "display": null,
            "flex": null,
            "flex_flow": null,
            "grid_area": null,
            "grid_auto_columns": null,
            "grid_auto_flow": null,
            "grid_auto_rows": null,
            "grid_column": null,
            "grid_gap": null,
            "grid_row": null,
            "grid_template_areas": null,
            "grid_template_columns": null,
            "grid_template_rows": null,
            "height": null,
            "justify_content": null,
            "justify_items": null,
            "left": null,
            "margin": null,
            "max_height": null,
            "max_width": null,
            "min_height": null,
            "min_width": null,
            "object_fit": null,
            "object_position": null,
            "order": null,
            "overflow": null,
            "overflow_x": null,
            "overflow_y": null,
            "padding": null,
            "right": null,
            "top": null,
            "visibility": null,
            "width": null
          }
        },
        "2d7801417a5e44f5be9869517468ba8a": {
          "model_module": "@jupyter-widgets/controls",
          "model_name": "DescriptionStyleModel",
          "model_module_version": "1.5.0",
          "state": {
            "_model_module": "@jupyter-widgets/controls",
            "_model_module_version": "1.5.0",
            "_model_name": "DescriptionStyleModel",
            "_view_count": null,
            "_view_module": "@jupyter-widgets/base",
            "_view_module_version": "1.2.0",
            "_view_name": "StyleView",
            "description_width": ""
          }
        },
        "85f4f0c95e7e409b95a8552313756256": {
          "model_module": "@jupyter-widgets/controls",
          "model_name": "HBoxModel",
          "model_module_version": "1.5.0",
          "state": {
            "_dom_classes": [],
            "_model_module": "@jupyter-widgets/controls",
            "_model_module_version": "1.5.0",
            "_model_name": "HBoxModel",
            "_view_count": null,
            "_view_module": "@jupyter-widgets/controls",
            "_view_module_version": "1.5.0",
            "_view_name": "HBoxView",
            "box_style": "",
            "children": [
              "IPY_MODEL_6d428c1db5844940a5619aa10bd9a401",
              "IPY_MODEL_01ac3883f1974b05be9855bbd96dd08d",
              "IPY_MODEL_b0ba986fa33643bf9be99a0c0795116c"
            ],
            "layout": "IPY_MODEL_e94ab49acf6d4dada86c2b0bffbf2894"
          }
        },
        "6d428c1db5844940a5619aa10bd9a401": {
          "model_module": "@jupyter-widgets/controls",
          "model_name": "HTMLModel",
          "model_module_version": "1.5.0",
          "state": {
            "_dom_classes": [],
            "_model_module": "@jupyter-widgets/controls",
            "_model_module_version": "1.5.0",
            "_model_name": "HTMLModel",
            "_view_count": null,
            "_view_module": "@jupyter-widgets/controls",
            "_view_module_version": "1.5.0",
            "_view_name": "HTMLView",
            "description": "",
            "description_tooltip": null,
            "layout": "IPY_MODEL_ac9bd05dba2541fd9e6995dc2f879cc5",
            "placeholder": "​",
            "style": "IPY_MODEL_2d1f0929b75a4e52b91b7ebac5b9f3f7",
            "value": "100%"
          }
        },
        "01ac3883f1974b05be9855bbd96dd08d": {
          "model_module": "@jupyter-widgets/controls",
          "model_name": "FloatProgressModel",
          "model_module_version": "1.5.0",
          "state": {
            "_dom_classes": [],
            "_model_module": "@jupyter-widgets/controls",
            "_model_module_version": "1.5.0",
            "_model_name": "FloatProgressModel",
            "_view_count": null,
            "_view_module": "@jupyter-widgets/controls",
            "_view_module_version": "1.5.0",
            "_view_name": "ProgressView",
            "bar_style": "success",
            "description": "",
            "description_tooltip": null,
            "layout": "IPY_MODEL_19508d7fc3c2469f915a34982fe5f1c2",
            "max": 3,
            "min": 0,
            "orientation": "horizontal",
            "style": "IPY_MODEL_b38ecbd9aa234409936eb29e242c54c3",
            "value": 3
          }
        },
        "b0ba986fa33643bf9be99a0c0795116c": {
          "model_module": "@jupyter-widgets/controls",
          "model_name": "HTMLModel",
          "model_module_version": "1.5.0",
          "state": {
            "_dom_classes": [],
            "_model_module": "@jupyter-widgets/controls",
            "_model_module_version": "1.5.0",
            "_model_name": "HTMLModel",
            "_view_count": null,
            "_view_module": "@jupyter-widgets/controls",
            "_view_module_version": "1.5.0",
            "_view_name": "HTMLView",
            "description": "",
            "description_tooltip": null,
            "layout": "IPY_MODEL_1b27ca110e0d41a88c4d5270e6471a79",
            "placeholder": "​",
            "style": "IPY_MODEL_25bfa746aada4b588d06db1bfc02c49c",
            "value": " 3/3 [03:07&lt;00:00, 62.38s/it]"
          }
        },
        "e94ab49acf6d4dada86c2b0bffbf2894": {
          "model_module": "@jupyter-widgets/base",
          "model_name": "LayoutModel",
          "model_module_version": "1.2.0",
          "state": {
            "_model_module": "@jupyter-widgets/base",
            "_model_module_version": "1.2.0",
            "_model_name": "LayoutModel",
            "_view_count": null,
            "_view_module": "@jupyter-widgets/base",
            "_view_module_version": "1.2.0",
            "_view_name": "LayoutView",
            "align_content": null,
            "align_items": null,
            "align_self": null,
            "border": null,
            "bottom": null,
            "display": null,
            "flex": null,
            "flex_flow": null,
            "grid_area": null,
            "grid_auto_columns": null,
            "grid_auto_flow": null,
            "grid_auto_rows": null,
            "grid_column": null,
            "grid_gap": null,
            "grid_row": null,
            "grid_template_areas": null,
            "grid_template_columns": null,
            "grid_template_rows": null,
            "height": null,
            "justify_content": null,
            "justify_items": null,
            "left": null,
            "margin": null,
            "max_height": null,
            "max_width": null,
            "min_height": null,
            "min_width": null,
            "object_fit": null,
            "object_position": null,
            "order": null,
            "overflow": null,
            "overflow_x": null,
            "overflow_y": null,
            "padding": null,
            "right": null,
            "top": null,
            "visibility": null,
            "width": null
          }
        },
        "ac9bd05dba2541fd9e6995dc2f879cc5": {
          "model_module": "@jupyter-widgets/base",
          "model_name": "LayoutModel",
          "model_module_version": "1.2.0",
          "state": {
            "_model_module": "@jupyter-widgets/base",
            "_model_module_version": "1.2.0",
            "_model_name": "LayoutModel",
            "_view_count": null,
            "_view_module": "@jupyter-widgets/base",
            "_view_module_version": "1.2.0",
            "_view_name": "LayoutView",
            "align_content": null,
            "align_items": null,
            "align_self": null,
            "border": null,
            "bottom": null,
            "display": null,
            "flex": null,
            "flex_flow": null,
            "grid_area": null,
            "grid_auto_columns": null,
            "grid_auto_flow": null,
            "grid_auto_rows": null,
            "grid_column": null,
            "grid_gap": null,
            "grid_row": null,
            "grid_template_areas": null,
            "grid_template_columns": null,
            "grid_template_rows": null,
            "height": null,
            "justify_content": null,
            "justify_items": null,
            "left": null,
            "margin": null,
            "max_height": null,
            "max_width": null,
            "min_height": null,
            "min_width": null,
            "object_fit": null,
            "object_position": null,
            "order": null,
            "overflow": null,
            "overflow_x": null,
            "overflow_y": null,
            "padding": null,
            "right": null,
            "top": null,
            "visibility": null,
            "width": null
          }
        },
        "2d1f0929b75a4e52b91b7ebac5b9f3f7": {
          "model_module": "@jupyter-widgets/controls",
          "model_name": "DescriptionStyleModel",
          "model_module_version": "1.5.0",
          "state": {
            "_model_module": "@jupyter-widgets/controls",
            "_model_module_version": "1.5.0",
            "_model_name": "DescriptionStyleModel",
            "_view_count": null,
            "_view_module": "@jupyter-widgets/base",
            "_view_module_version": "1.2.0",
            "_view_name": "StyleView",
            "description_width": ""
          }
        },
        "19508d7fc3c2469f915a34982fe5f1c2": {
          "model_module": "@jupyter-widgets/base",
          "model_name": "LayoutModel",
          "model_module_version": "1.2.0",
          "state": {
            "_model_module": "@jupyter-widgets/base",
            "_model_module_version": "1.2.0",
            "_model_name": "LayoutModel",
            "_view_count": null,
            "_view_module": "@jupyter-widgets/base",
            "_view_module_version": "1.2.0",
            "_view_name": "LayoutView",
            "align_content": null,
            "align_items": null,
            "align_self": null,
            "border": null,
            "bottom": null,
            "display": null,
            "flex": null,
            "flex_flow": null,
            "grid_area": null,
            "grid_auto_columns": null,
            "grid_auto_flow": null,
            "grid_auto_rows": null,
            "grid_column": null,
            "grid_gap": null,
            "grid_row": null,
            "grid_template_areas": null,
            "grid_template_columns": null,
            "grid_template_rows": null,
            "height": null,
            "justify_content": null,
            "justify_items": null,
            "left": null,
            "margin": null,
            "max_height": null,
            "max_width": null,
            "min_height": null,
            "min_width": null,
            "object_fit": null,
            "object_position": null,
            "order": null,
            "overflow": null,
            "overflow_x": null,
            "overflow_y": null,
            "padding": null,
            "right": null,
            "top": null,
            "visibility": null,
            "width": null
          }
        },
        "b38ecbd9aa234409936eb29e242c54c3": {
          "model_module": "@jupyter-widgets/controls",
          "model_name": "ProgressStyleModel",
          "model_module_version": "1.5.0",
          "state": {
            "_model_module": "@jupyter-widgets/controls",
            "_model_module_version": "1.5.0",
            "_model_name": "ProgressStyleModel",
            "_view_count": null,
            "_view_module": "@jupyter-widgets/base",
            "_view_module_version": "1.2.0",
            "_view_name": "StyleView",
            "bar_color": null,
            "description_width": ""
          }
        },
        "1b27ca110e0d41a88c4d5270e6471a79": {
          "model_module": "@jupyter-widgets/base",
          "model_name": "LayoutModel",
          "model_module_version": "1.2.0",
          "state": {
            "_model_module": "@jupyter-widgets/base",
            "_model_module_version": "1.2.0",
            "_model_name": "LayoutModel",
            "_view_count": null,
            "_view_module": "@jupyter-widgets/base",
            "_view_module_version": "1.2.0",
            "_view_name": "LayoutView",
            "align_content": null,
            "align_items": null,
            "align_self": null,
            "border": null,
            "bottom": null,
            "display": null,
            "flex": null,
            "flex_flow": null,
            "grid_area": null,
            "grid_auto_columns": null,
            "grid_auto_flow": null,
            "grid_auto_rows": null,
            "grid_column": null,
            "grid_gap": null,
            "grid_row": null,
            "grid_template_areas": null,
            "grid_template_columns": null,
            "grid_template_rows": null,
            "height": null,
            "justify_content": null,
            "justify_items": null,
            "left": null,
            "margin": null,
            "max_height": null,
            "max_width": null,
            "min_height": null,
            "min_width": null,
            "object_fit": null,
            "object_position": null,
            "order": null,
            "overflow": null,
            "overflow_x": null,
            "overflow_y": null,
            "padding": null,
            "right": null,
            "top": null,
            "visibility": null,
            "width": null
          }
        },
        "25bfa746aada4b588d06db1bfc02c49c": {
          "model_module": "@jupyter-widgets/controls",
          "model_name": "DescriptionStyleModel",
          "model_module_version": "1.5.0",
          "state": {
            "_model_module": "@jupyter-widgets/controls",
            "_model_module_version": "1.5.0",
            "_model_name": "DescriptionStyleModel",
            "_view_count": null,
            "_view_module": "@jupyter-widgets/base",
            "_view_module_version": "1.2.0",
            "_view_name": "StyleView",
            "description_width": ""
          }
        }
      }
    }
  },
  "cells": [
    {
      "cell_type": "code",
      "execution_count": null,
      "metadata": {
        "id": "L_RXuY4JtR6q"
      },
      "outputs": [],
      "source": [
        "import torch\n",
        "from torch import nn\n",
        "from matplotlib import pyplot as plt\n",
        "import cv2\n",
        "import numpy\n",
        "from torchvision import datasets\n",
        "from torchvision.transforms import ToTensor\n",
        "from torch.utils.data import DataLoader"
      ]
    },
    {
      "cell_type": "code",
      "source": [
        "train_data = datasets.MNIST(\n",
        "    download = True ,\n",
        "    root = \"data\",\n",
        "    transform = ToTensor(),\n",
        "    train = True,\n",
        ")\n",
        "test_data  = datasets.MNIST(\n",
        "    download = True ,\n",
        "    root = \"data\",\n",
        "    transform = ToTensor(),\n",
        "    train = False,\n",
        ")"
      ],
      "metadata": {
        "id": "dDSlgUnmyNMK"
      },
      "execution_count": null,
      "outputs": []
    },
    {
      "cell_type": "code",
      "source": [
        "img , label = train_data[torch.randint(0,len(train_data) , size = [1]).item()]\n",
        "plt.imshow(img.permute(1,2,0))\n",
        "plt.axis(False)\n",
        "img.shape"
      ],
      "metadata": {
        "colab": {
          "base_uri": "https://localhost:8080/",
          "height": 424
        },
        "id": "9FzoCDnq1bqG",
        "outputId": "3cc044e8-cf57-4244-c799-de7ea8136402"
      },
      "execution_count": null,
      "outputs": [
        {
          "output_type": "execute_result",
          "data": {
            "text/plain": [
              "torch.Size([1, 28, 28])"
            ]
          },
          "metadata": {},
          "execution_count": 100
        },
        {
          "output_type": "display_data",
          "data": {
            "text/plain": [
              "<Figure size 640x480 with 1 Axes>"
            ],
            "image/png": "[encoded data removed]"
          },
          "metadata": {}
        }
      ]
    },
    {
      "cell_type": "code",
      "source": [
        "classNames = test_data.classes\n",
        "classNames"
      ],
      "metadata": {
        "colab": {
          "base_uri": "https://localhost:8080/"
        },
        "id": "UD6p6Hj93KW2",
        "outputId": "4359ed1a-8119-4284-df94-c042a1fe174b"
      },
      "execution_count": null,
      "outputs": [
        {
          "output_type": "execute_result",
          "data": {
            "text/plain": [
              "['0 - zero',\n",
              " '1 - one',\n",
              " '2 - two',\n",
              " '3 - three',\n",
              " '4 - four',\n",
              " '5 - five',\n",
              " '6 - six',\n",
              " '7 - seven',\n",
              " '8 - eight',\n",
              " '9 - nine']"
            ]
          },
          "metadata": {},
          "execution_count": 101
        }
      ]
    },
    {
      "cell_type": "code",
      "source": [
        "batch_size = 32\n",
        "trainDataLoader  = DataLoader(dataset = train_data ,batch_size = batch_size , shuffle = True )\n",
        "testDataLoader = DataLoader(dataset = test_data , batch_size = batch_size , shuffle = False)"
      ],
      "metadata": {
        "id": "GpeoqXkd5NGs"
      },
      "execution_count": null,
      "outputs": []
    },
    {
      "cell_type": "markdown",
      "source": [
        "##linear Model"
      ],
      "metadata": {
        "id": "CnH9zBBC2Km5"
      }
    },
    {
      "cell_type": "code",
      "source": [
        "class one(nn.Module):\n",
        "  def __init__(self):\n",
        "    super().__init__()\n",
        "    self.seq = nn.Sequential(\n",
        "        nn.Flatten(),\n",
        "        nn.Linear(in_features = 28*28 , out_features = len(classNames) ),\n",
        "    )\n",
        "  def forward(self ,X):\n",
        "    return self.seq(X)\n",
        "  def pred(self , X):\n",
        "    self.eval()\n",
        "    with torch.inference_mode():\n",
        "      return self.seq(X)"
      ],
      "metadata": {
        "id": "yOXFiM9D1mlD"
      },
      "execution_count": null,
      "outputs": []
    },
    {
      "cell_type": "code",
      "source": [
        "model0 = one()\n",
        "loss_fn = nn.CrossEntropyLoss()"
      ],
      "metadata": {
        "id": "W4EbR6hC31OU"
      },
      "execution_count": null,
      "outputs": []
    },
    {
      "cell_type": "code",
      "source": [
        "def train(model = None, loss_fn =None ,lr = 0.1,epochs = 3, trainDataLoader=None  , testDataLoader = None , batch_size = 32 ):\n",
        "  import torch\n",
        "  optimizer = torch.optim.Adam(params = model.parameters() , lr = lr)\n",
        "  from tqdm.auto import tqdm\n",
        "\n",
        "  for epoch in tqdm(range(epochs)):\n",
        "    model.train()\n",
        "    iterLoss = 0\n",
        "    for batch , (X,y) in enumerate(trainDataLoader):\n",
        "      logits = model(X)\n",
        "      loss = loss_fn(logits , y)\n",
        "      iterLoss += loss\n",
        "      optimizer.zero_grad()\n",
        "      loss.backward()\n",
        "      optimizer.step()\n",
        "      if(batch % 400 == 0 ): print(f\"seen {batch * batch_size} / {len(trainDataLoader)*batch_size}\")\n",
        "    overallLoss = iterLoss / len(trainDataLoader)\n",
        "\n",
        "    model.eval()\n",
        "    with torch.inference_mode():\n",
        "      testLoss = 0\n",
        "      testAcc = 0\n",
        "      for batch , (X , y_test) in enumerate(testDataLoader):\n",
        "        test_logits = model(X)\n",
        "        test_loss = loss_fn(test_logits , y_test)\n",
        "        testLoss += test_loss\n",
        "        currAcc=torch.sum(y_test == test_logits.argmax(dim = 1))*100 / len(y_test)\n",
        "        testAcc += currAcc\n",
        "    overallTestLoss = testLoss / len(testDataLoader)\n",
        "    overallTestAcc = testAcc / len(testDataLoader)\n",
        "\n",
        "\n",
        "    print(f\"epoch {epoch} | train loss : {overallLoss:3f} , test loss : {overallTestLoss:.3f} | test accuracy {overallTestAcc:3f}%\")\n",
        "def show_grid(model =None, row:int = 5, col:int = 5  ,test_data=None , Cnn:int = 0 ):\n",
        "  \"\"\"\n",
        "  def pred(self , X):\n",
        "    self.eval()\n",
        "    with torch.inference_mode():\n",
        "      return self(X)\n",
        "\n",
        "  \"\"\"\n",
        "  import matplotlib.pyplot as plt\n",
        "  import torch\n",
        "  fig = plt.figure(figsize = (row*2 , col*2))\n",
        "  correct_count = 0\n",
        "  for i in range(1, row*col +1 ):\n",
        "    fig.add_subplot(row ,col , i)\n",
        "    rndIdx = torch.randint(0,len(test_data) , size = [1]).item()\n",
        "    img , label = test_data[rndIdx]\n",
        "\n",
        "    if(not Cnn): pred = model.pred(img).argmax(dim=1).item()\n",
        "    else: pred = model.pred(img.unsqueeze(dim=1)).argmax(dim=1).item()\n",
        "    correct = (pred == label)\n",
        "    correct_count+= correct\n",
        "\n",
        "    plt.title(f\"{classNames[pred]} | {classNames[label]}\" , c = \"green\" if correct else \"red\" , fontsize = 8)\n",
        "    plt.imshow(img.permute(1,2,0))\n",
        "    plt.axis(False)\n",
        "  print(f\"correct : {correct_count} , Wrong : {row*col - correct_count}\")\n",
        "    #return {\"correct\" : correct_count , \"Wrong\" : row*col - correct_count}\n"
      ],
      "metadata": {
        "id": "cEXLGHj0Bi9o"
      },
      "execution_count": null,
      "outputs": []
    },
    {
      "cell_type": "code",
      "source": [
        "train(model = model0 , loss_fn = loss_fn , lr = 0.3 , epochs = 3 , trainDataLoader = trainDataLoader , testDataLoader = testDataLoader)"
      ],
      "metadata": {
        "colab": {
          "base_uri": "https://localhost:8080/",
          "height": 376,
          "referenced_widgets": [
            "39f004eccbb041869d3b895304cb57b3",
            "275aec5287a0499a939ff05f610ad6bc",
            "d2251e59f36c4050b7dcb2f57f7f23b5",
            "86a76165b5924f96873f776fab4916f7",
            "a2a57a81b845491aa1a92ac8debdee6c",
            "6b547e4cffec4e6da95244c7aac400ec",
            "93443da0d2124ecfb44b1ba2d69f010e",
            "9b092a4d04584b3a85691c7be7d2c3ee",
            "63f4cd3a909b419386048c55bc423a1f",
            "87ee47abd3c9457b8e533edc8311d650",
            "2d7801417a5e44f5be9869517468ba8a"
          ]
        },
        "id": "PZTMU4tE34iF",
        "outputId": "5c9b8bf3-385e-4e3b-f1d5-18516abf03ae"
      },
      "execution_count": null,
      "outputs": [
        {
          "output_type": "display_data",
          "data": {
            "text/plain": [
              "  0%|          | 0/3 [00:00<?, ?it/s]"
            ],
            "application/vnd.jupyter.widget-view+json": {
              "version_major": 2,
              "version_minor": 0,
              "model_id": "39f004eccbb041869d3b895304cb57b3"
            }
          },
          "metadata": {}
        },
        {
          "output_type": "stream",
          "name": "stdout",
          "text": [
            "seen 0 / 60000\n",
            "seen 12800 / 60000\n",
            "seen 25600 / 60000\n",
            "seen 38400 / 60000\n",
            "seen 51200 / 60000\n",
            "epoch 0 | train loss : 6.097671 , test loss : 7.036 | test accuracy 88.947685%\n",
            "seen 0 / 60000\n",
            "seen 12800 / 60000\n",
            "seen 25600 / 60000\n",
            "seen 38400 / 60000\n",
            "seen 51200 / 60000\n",
            "epoch 1 | train loss : 6.128188 , test loss : 7.830 | test accuracy 87.509987%\n",
            "seen 0 / 60000\n",
            "seen 12800 / 60000\n",
            "seen 25600 / 60000\n",
            "seen 38400 / 60000\n",
            "seen 51200 / 60000\n",
            "epoch 2 | train loss : 5.983885 , test loss : 6.743 | test accuracy 89.506790%\n"
          ]
        }
      ]
    },
    {
      "cell_type": "code",
      "source": [
        "show_grid(row = 5, col = 5,model = model0 , test_data = test_data)"
      ],
      "metadata": {
        "colab": {
          "base_uri": "https://localhost:8080/",
          "height": 841
        },
        "id": "Bb3lu4ts50hK",
        "outputId": "68fa819e-2e01-49ca-f027-119821e89ace"
      },
      "execution_count": null,
      "outputs": [
        {
          "output_type": "stream",
          "name": "stdout",
          "text": [
            "correct : 24 , Wrong : 1\n"
          ]
        },
        {
          "output_type": "display_data",
          "data": {
            "text/plain": [
              "<Figure size 1000x1000 with 25 Axes>"
            ],
            "image/png": "[encoded data removed]"
          },
          "metadata": {}
        }
      ]
    },
    {
      "cell_type": "markdown",
      "source": [
        "##Creating a CNN model"
      ],
      "metadata": {
        "id": "S_GRxzZXCTx8"
      }
    },
    {
      "cell_type": "code",
      "source": [
        "class two(nn.Module):\n",
        "  def __init__(self):\n",
        "    super().__init__()\n",
        "    self.b1 = nn.Sequential(\n",
        "        nn.Conv2d(in_channels = 1 , out_channels = 10 , kernel_size  = (3,3) ,stride = 1 , padding = 1 ),\n",
        "        nn.ReLU(),\n",
        "        nn.Conv2d(in_channels = 10 , out_channels = 10 , kernel_size = (3,3) , stride = 1 , padding = 1 ),\n",
        "        nn.MaxPool2d(kernel_size = (2,2) , stride = 2),\n",
        "    )\n",
        "    self.b2 = nn.Sequential(\n",
        "        nn.Conv2d(in_channels = 10 , out_channels = 10 , kernel_size = (3,3) , stride = 1 , padding = 1 ),\n",
        "        nn.ReLU(),\n",
        "        nn.Conv2d(in_channels = 10 , out_channels = 10 , kernel_size = (3,3) , stride = 1 , padding = 1 ),\n",
        "        nn.MaxPool2d(kernel_size = (2,2) , stride = 1),\n",
        "     )\n",
        "    self.Classify = nn.Sequential(\n",
        "      nn.Flatten(),\n",
        "      nn.Linear(in_features =10*13*13 , out_features = 10),\n",
        "    )\n",
        "  def forward(self,X):\n",
        "    try :\n",
        "      X1 = self.b1(X)\n",
        "      #print(X1.shape)\n",
        "      X2 = self.b2(X1)\n",
        "      #print(X2.shape)\n",
        "      X3 =  self.Classify(X2)\n",
        "      return X3\n",
        "    except Exception as  e:\n",
        "\n",
        "      print(e)\n",
        "      print(e.__traceback__.tb_lineno)\n",
        "    return None\n",
        "\n",
        "  def pred(self , X):\n",
        "    self.eval()\n",
        "    with torch.inference_mode():\n",
        "      return self(X)\n"
      ],
      "metadata": {
        "id": "g-0yY9DACBYV"
      },
      "execution_count": null,
      "outputs": []
    },
    {
      "cell_type": "code",
      "source": [
        "model2 = two()\n",
        "loss_fn = nn.CrossEntropyLoss()"
      ],
      "metadata": {
        "id": "CG2ofK_5Gx7q"
      },
      "execution_count": null,
      "outputs": []
    },
    {
      "cell_type": "code",
      "source": [
        "train(model = model2 , loss_fn = loss_fn , lr = 0.001 , epochs = 3 , trainDataLoader = trainDataLoader , testDataLoader = testDataLoader)"
      ],
      "metadata": {
        "colab": {
          "base_uri": "https://localhost:8080/",
          "height": 376,
          "referenced_widgets": [
            "85f4f0c95e7e409b95a8552313756256",
            "6d428c1db5844940a5619aa10bd9a401",
            "01ac3883f1974b05be9855bbd96dd08d",
            "b0ba986fa33643bf9be99a0c0795116c",
            "e94ab49acf6d4dada86c2b0bffbf2894",
            "ac9bd05dba2541fd9e6995dc2f879cc5",
            "2d1f0929b75a4e52b91b7ebac5b9f3f7",
            "19508d7fc3c2469f915a34982fe5f1c2",
            "b38ecbd9aa234409936eb29e242c54c3",
            "1b27ca110e0d41a88c4d5270e6471a79",
            "25bfa746aada4b588d06db1bfc02c49c"
          ]
        },
        "id": "jucRTRajMTbu",
        "outputId": "b46daa6c-3921-4e90-b640-02a9fd431f56"
      },
      "execution_count": null,
      "outputs": [
        {
          "output_type": "display_data",
          "data": {
            "text/plain": [
              "  0%|          | 0/3 [00:00<?, ?it/s]"
            ],
            "application/vnd.jupyter.widget-view+json": {
              "version_major": 2,
              "version_minor": 0,
              "model_id": "85f4f0c95e7e409b95a8552313756256"
            }
          },
          "metadata": {}
        },
        {
          "output_type": "stream",
          "name": "stdout",
          "text": [
            "seen 0 / 60000\n",
            "seen 12800 / 60000\n",
            "seen 25600 / 60000\n",
            "seen 38400 / 60000\n",
            "seen 51200 / 60000\n",
            "epoch 0 | train loss : 0.047778 , test loss : 0.045 | test accuracy 98.632187%\n",
            "seen 0 / 60000\n",
            "seen 12800 / 60000\n",
            "seen 25600 / 60000\n",
            "seen 38400 / 60000\n",
            "seen 51200 / 60000\n",
            "epoch 1 | train loss : 0.035841 , test loss : 0.040 | test accuracy 98.791931%\n",
            "seen 0 / 60000\n",
            "seen 12800 / 60000\n",
            "seen 25600 / 60000\n",
            "seen 38400 / 60000\n",
            "seen 51200 / 60000\n",
            "epoch 2 | train loss : 0.029759 , test loss : 0.040 | test accuracy 98.911743%\n"
          ]
        }
      ]
    },
    {
      "cell_type": "code",
      "source": [
        "show_grid(model = model2 , row = 5 ,col =5 ,Cnn = 1 , test_data = train_data)"
      ],
      "metadata": {
        "colab": {
          "base_uri": "https://localhost:8080/",
          "height": 841
        },
        "id": "m64_jIC2HekN",
        "outputId": "f7363ecf-7c38-4f7a-c974-82868fc75926"
      },
      "execution_count": null,
      "outputs": [
        {
          "output_type": "stream",
          "name": "stdout",
          "text": [
            "correct : 24 , Wrong : 1\n"
          ]
        },
        {
          "output_type": "display_data",
          "data": {
            "text/plain": [
              "<Figure size 1000x1000 with 25 Axes>"
            ],
            "image/png": "[encoded data removed]"
          },
          "metadata": {}
        }
      ]
    }
  ]
}
